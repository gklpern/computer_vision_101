{
 "cells": [
  {
   "cell_type": "code",
   "execution_count": 1,
   "id": "836ff314",
   "metadata": {},
   "outputs": [],
   "source": [
    "import cv2"
   ]
  },
  {
   "cell_type": "code",
   "execution_count": 2,
   "id": "63cb86cb",
   "metadata": {},
   "outputs": [],
   "source": [
    "image = cv2.imread(r\"D:\\GIT\\CV\\5_opencv\\Dhaulagiri_mountain.jpg\")"
   ]
  },
  {
   "cell_type": "code",
   "execution_count": 3,
   "id": "f55a78f9",
   "metadata": {},
   "outputs": [
    {
     "name": "stdout",
     "output_type": "stream",
     "text": [
      "Image loaded successfully\n"
     ]
    }
   ],
   "source": [
    "if image is None:\n",
    "    print(\"Could not open or find the image\")\n",
    "else:\n",
    "    print(\"Image loaded successfully\")"
   ]
  },
  {
   "cell_type": "code",
   "execution_count": 4,
   "id": "8e5dd620",
   "metadata": {},
   "outputs": [],
   "source": [
    "cv2.imshow(\"Image\", image)\n",
    "cv2.waitKey(0)\n",
    "cv2.destroyAllWindows()"
   ]
  },
  {
   "cell_type": "code",
   "execution_count": 5,
   "id": "486baace",
   "metadata": {},
   "outputs": [
    {
     "data": {
      "text/plain": [
       "True"
      ]
     },
     "execution_count": 5,
     "metadata": {},
     "output_type": "execute_result"
    }
   ],
   "source": [
    "image_new = image + 30\n",
    "cv2.imwrite(\"Dhaulagiri_mountain_new.jpg\", image_new)\n",
    "cv2.imshow(\"Image\", image_new)\n",
    "cv2.waitKey(0)\n",
    "cv2.destroyAllWindows()\n",
    "image_new = image + 30\n",
    "cv2.imwrite(\"Dhaulagiri_mountain_new.jpg\", image_new)\n"
   ]
  },
  {
   "cell_type": "markdown",
   "id": "dc40c581",
   "metadata": {},
   "source": [
    "# Color Process - Mask"
   ]
  },
  {
   "cell_type": "code",
   "execution_count": 6,
   "id": "76fc258d",
   "metadata": {},
   "outputs": [],
   "source": [
    "import cv2\n",
    "import numpy as np\n",
    "\n",
    "# 1. Görüntüyü oku\n",
    "img = cv2.imread(\"Dhaulagiri_mountain.jpg\")\n",
    "\n",
    "# 2. Maviyi maskelemek için renk aralığı belirle (HSV'de daha kolay olur)\n",
    "hsv = cv2.cvtColor(img, cv2.COLOR_BGR2HSV)\n",
    "\n",
    "lower_blue = np.array([100, 50, 50])   # mavi için alt sınır\n",
    "upper_blue = np.array([130, 255, 255])  # mavi için üst sınır\n",
    "\n",
    "mask = cv2.inRange(hsv, lower_blue, upper_blue)  # mavi bölgeler = beyaz\n",
    "\n",
    "# 3. Yeni rengimiz (pembe, BGR formatında)\n",
    "pink = np.array([180, 0, 255], dtype=np.uint8)\n",
    "\n",
    "# 4. Çıkış görüntüsü için kopya oluştur\n",
    "output = img.copy()\n",
    "\n",
    "# Mask > 0 olan yerlere pembe uygula\n",
    "output[mask > 0] = pink\n",
    "\n",
    "# 5. Sonucu göster\n",
    "cv2.imshow(\"Original\", img)\n",
    "cv2.imshow(\"Mask\", mask)\n",
    "cv2.imshow(\"Result\", output)\n",
    "cv2.waitKey(0)\n",
    "cv2.destroyAllWindows()\n"
   ]
  }
 ],
 "metadata": {
  "kernelspec": {
   "display_name": "cv_venv",
   "language": "python",
   "name": "python3"
  },
  "language_info": {
   "codemirror_mode": {
    "name": "ipython",
    "version": 3
   },
   "file_extension": ".py",
   "mimetype": "text/x-python",
   "name": "python",
   "nbconvert_exporter": "python",
   "pygments_lexer": "ipython3",
   "version": "3.10.0"
  }
 },
 "nbformat": 4,
 "nbformat_minor": 5
}
